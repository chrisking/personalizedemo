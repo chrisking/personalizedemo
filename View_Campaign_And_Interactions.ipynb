{
 "cells": [
  {
   "cell_type": "markdown",
   "metadata": {},
   "source": [
    "# View Campaign and Interactions\n",
    "\n",
    "This notebook will first showcase how to select a user and view their recommendations.\n",
    "\n",
    "Additionally it will also allow you to simulate \"browsing\" behavior and then get new recommendations to show how the solution adapts to the change in behavior."
   ]
  },
  {
   "cell_type": "code",
   "execution_count": 1,
   "metadata": {},
   "outputs": [],
   "source": [
    "# Imports\n",
    "import boto3\n",
    "\n",
    "import json\n",
    "import numpy as np\n",
    "import pandas as pd\n",
    "import time\n",
    "import uuid"
   ]
  },
  {
   "cell_type": "code",
   "execution_count": 14,
   "metadata": {},
   "outputs": [],
   "source": [
    "# Setup and Config\n",
    "# Recommendations from Event data\n",
    "personalize_runtime = boto3.client('personalize-runtime')\n",
    "HRNN_Campaign_ARN = \"arn:aws:personalize:us-east-1:059124553121:campaign/personalize-demo-camp\"\n",
    "\n",
    "# Define User \n",
    "USER_ID = \"70\"\n",
    "\n",
    "# Tracker\n",
    "TRACKING_ID = '55d1df80-16ae-4f2f-a7ea-0f861952320d'\n",
    "\n",
    "# Establish a connection to Personalize's Event Streaming\n",
    "personalize_events = boto3.client(service_name='personalize-events')"
   ]
  },
  {
   "cell_type": "code",
   "execution_count": 15,
   "metadata": {},
   "outputs": [
    {
     "data": {
      "text/html": [
       "<div>\n",
       "<style scoped>\n",
       "    .dataframe tbody tr th:only-of-type {\n",
       "        vertical-align: middle;\n",
       "    }\n",
       "\n",
       "    .dataframe tbody tr th {\n",
       "        vertical-align: top;\n",
       "    }\n",
       "\n",
       "    .dataframe thead th {\n",
       "        text-align: right;\n",
       "    }\n",
       "</style>\n",
       "<table border=\"1\" class=\"dataframe\">\n",
       "  <thead>\n",
       "    <tr style=\"text-align: right;\">\n",
       "      <th></th>\n",
       "      <th>USER_ID</th>\n",
       "      <th>ITEM_ID</th>\n",
       "      <th>TIMESTAMP</th>\n",
       "    </tr>\n",
       "  </thead>\n",
       "  <tbody>\n",
       "    <tr>\n",
       "      <th>5</th>\n",
       "      <td>298</td>\n",
       "      <td>474</td>\n",
       "      <td>884182806</td>\n",
       "    </tr>\n",
       "    <tr>\n",
       "      <th>7</th>\n",
       "      <td>253</td>\n",
       "      <td>465</td>\n",
       "      <td>891628467</td>\n",
       "    </tr>\n",
       "    <tr>\n",
       "      <th>...</th>\n",
       "      <td>...</td>\n",
       "      <td>...</td>\n",
       "      <td>...</td>\n",
       "    </tr>\n",
       "    <tr>\n",
       "      <th>99991</th>\n",
       "      <td>676</td>\n",
       "      <td>538</td>\n",
       "      <td>892685437</td>\n",
       "    </tr>\n",
       "    <tr>\n",
       "      <th>99996</th>\n",
       "      <td>716</td>\n",
       "      <td>204</td>\n",
       "      <td>879795543</td>\n",
       "    </tr>\n",
       "  </tbody>\n",
       "</table>\n",
       "<p>55375 rows × 3 columns</p>\n",
       "</div>"
      ],
      "text/plain": [
       "       USER_ID  ITEM_ID  TIMESTAMP\n",
       "5          298      474  884182806\n",
       "7          253      465  891628467\n",
       "...        ...      ...        ...\n",
       "99991      676      538  892685437\n",
       "99996      716      204  879795543\n",
       "\n",
       "[55375 rows x 3 columns]"
      ]
     },
     "execution_count": 15,
     "metadata": {},
     "output_type": "execute_result"
    }
   ],
   "source": [
    "# Interaction config\n",
    "data = pd.read_csv('./ml-100k/u.data', sep='\\t', names=['USER_ID', 'ITEM_ID', 'RATING', 'TIMESTAMP'])\n",
    "pd.set_option('display.max_rows', 5)\n",
    "data = data[data['RATING'] > 3]                # keep only movies rated 3\n",
    "data = data[['USER_ID', 'ITEM_ID', 'TIMESTAMP']] # select columns that match the columns in the schema below\n",
    "data"
   ]
  },
  {
   "cell_type": "code",
   "execution_count": 16,
   "metadata": {},
   "outputs": [
    {
     "name": "stdout",
     "output_type": "stream",
     "text": [
      "USER: 339\n",
      "ITEM: Butch Cassidy and the Sundance Kid (1969)\n"
     ]
    },
    {
     "data": {
      "text/html": [
       "<div>\n",
       "<style scoped>\n",
       "    .dataframe tbody tr th:only-of-type {\n",
       "        vertical-align: middle;\n",
       "    }\n",
       "\n",
       "    .dataframe tbody tr th {\n",
       "        vertical-align: top;\n",
       "    }\n",
       "\n",
       "    .dataframe thead th {\n",
       "        text-align: right;\n",
       "    }\n",
       "</style>\n",
       "<table border=\"1\" class=\"dataframe\">\n",
       "  <thead>\n",
       "    <tr style=\"text-align: right;\">\n",
       "      <th></th>\n",
       "      <th>ITEM_ID</th>\n",
       "      <th>TITLE</th>\n",
       "    </tr>\n",
       "  </thead>\n",
       "  <tbody>\n",
       "    <tr>\n",
       "      <th>0</th>\n",
       "      <td>2</td>\n",
       "      <td>GoldenEye (1995)</td>\n",
       "    </tr>\n",
       "    <tr>\n",
       "      <th>1</th>\n",
       "      <td>3</td>\n",
       "      <td>Four Rooms (1995)</td>\n",
       "    </tr>\n",
       "    <tr>\n",
       "      <th>...</th>\n",
       "      <td>...</td>\n",
       "      <td>...</td>\n",
       "    </tr>\n",
       "    <tr>\n",
       "      <th>1679</th>\n",
       "      <td>1681</td>\n",
       "      <td>You So Crazy (1994)</td>\n",
       "    </tr>\n",
       "    <tr>\n",
       "      <th>1680</th>\n",
       "      <td>1682</td>\n",
       "      <td>Scream of Stone (Schrei aus Stein) (1991)</td>\n",
       "    </tr>\n",
       "  </tbody>\n",
       "</table>\n",
       "<p>1681 rows × 2 columns</p>\n",
       "</div>"
      ],
      "text/plain": [
       "      ITEM_ID                                      TITLE\n",
       "0           2                           GoldenEye (1995)\n",
       "1           3                          Four Rooms (1995)\n",
       "...       ...                                        ...\n",
       "1679     1681                        You So Crazy (1994)\n",
       "1680     1682  Scream of Stone (Schrei aus Stein) (1991)\n",
       "\n",
       "[1681 rows x 2 columns]"
      ]
     },
     "execution_count": 16,
     "metadata": {},
     "output_type": "execute_result"
    }
   ],
   "source": [
    "# Item Config\n",
    "\n",
    "items = pd.read_csv('./ml-100k/u.item', sep='|', usecols=[0,1], encoding='latin-1')\n",
    "items.columns = ['ITEM_ID', 'TITLE']\n",
    "\n",
    "user_id, item_id, _ = data.sample().values[0]\n",
    "item_title = items.loc[items['ITEM_ID'] == item_id].values[0][-1]\n",
    "print(\"USER: {}\".format(user_id))\n",
    "print(\"ITEM: {}\".format(item_title))\n",
    "\n",
    "items"
   ]
  },
  {
   "cell_type": "code",
   "execution_count": 18,
   "metadata": {},
   "outputs": [
    {
     "name": "stdout",
     "output_type": "stream",
     "text": [
      "Recommendations: [\n",
      "  \"Dances with Wolves (1990)\",\n",
      "  \"Back to the Future (1985)\",\n",
      "  \"Dead Poets Society (1989)\",\n",
      "  \"When Harry Met Sally... (1989)\",\n",
      "  \"Terminator 2: Judgment Day (1991)\",\n",
      "  \"Forrest Gump (1994)\",\n",
      "  \"Star Wars (1977)\",\n",
      "  \"Jaws (1975)\",\n",
      "  \"Die Hard (1988)\",\n",
      "  \"Star Trek: The Wrath of Khan (1982)\",\n",
      "  \"Raiders of the Lost Ark (1981)\",\n",
      "  \"Fugitive, The (1993)\",\n",
      "  \"Wizard of Oz, The (1939)\",\n",
      "  \"Speed (1994)\",\n",
      "  \"Babe (1995)\",\n",
      "  \"Blade Runner (1982)\",\n",
      "  \"Schindler's List (1993)\",\n",
      "  \"Terminator, The (1984)\",\n",
      "  \"Monty Python and the Holy Grail (1974)\",\n",
      "  \"Hunt for Red October, The (1990)\",\n",
      "  \"Apollo 13 (1995)\",\n",
      "  \"Client, The (1994)\",\n",
      "  \"Get Shorty (1995)\",\n",
      "  \"Gone with the Wind (1939)\",\n",
      "  \"Stand by Me (1986)\"\n",
      "]\n",
      "[{'itemId': '97'}, {'itemId': '204'}, {'itemId': '196'}, {'itemId': '216'}, {'itemId': '96'}, {'itemId': '69'}, {'itemId': '50'}, {'itemId': '234'}, {'itemId': '144'}, {'itemId': '228'}, {'itemId': '174'}, {'itemId': '79'}, {'itemId': '132'}, {'itemId': '568'}, {'itemId': '8'}, {'itemId': '89'}, {'itemId': '318'}, {'itemId': '195'}, {'itemId': '168'}, {'itemId': '265'}, {'itemId': '28'}, {'itemId': '356'}, {'itemId': '4'}, {'itemId': '133'}, {'itemId': '655'}]\n"
     ]
    }
   ],
   "source": [
    "# Get Recommendations as is\n",
    "get_recommendations_response = personalize_runtime.get_recommendations(\n",
    "    campaignArn = HRNN_Campaign_ARN,\n",
    "    userId = str(USER_ID),\n",
    ")\n",
    "\n",
    "item_list = get_recommendations_response['itemList']\n",
    "title_list = [items.loc[items['ITEM_ID'] == np.int(item['itemId'])].values[0][-1] for item in item_list]\n",
    "\n",
    "print(\"Recommendations: {}\".format(json.dumps(title_list, indent=2)))\n",
    "print(item_list)"
   ]
  },
  {
   "cell_type": "code",
   "execution_count": 19,
   "metadata": {},
   "outputs": [],
   "source": [
    "# Functions to simulate behavior"
   ]
  },
  {
   "cell_type": "code",
   "execution_count": 20,
   "metadata": {},
   "outputs": [],
   "source": [
    "session_dict = {}"
   ]
  },
  {
   "cell_type": "code",
   "execution_count": 21,
   "metadata": {},
   "outputs": [],
   "source": [
    "def send_movie_click(USER_ID, ITEM_ID):\n",
    "    \"\"\"\n",
    "    Simulates a click as an envent\n",
    "    to send an event to Amazon Personalize's Event Tracker\n",
    "    \"\"\"\n",
    "    # Configure Session\n",
    "    try:\n",
    "        session_ID = session_dict[USER_ID]\n",
    "    except:\n",
    "        session_dict[USER_ID] = str(uuid.uuid1())\n",
    "        session_ID = session_dict[USER_ID]\n",
    "        \n",
    "    # Configure Properties:\n",
    "    event = {\n",
    "    \"itemId\": USER_ID,\n",
    "    }\n",
    "    event_json = json.dumps(event)\n",
    "        \n",
    "    # Make Call\n",
    "    personalize_events.put_events(\n",
    "    trackingId = TRACKING_ID,\n",
    "    userId= USER_ID,\n",
    "    sessionId = session_ID,\n",
    "    eventList = [{\n",
    "        'sentAt': int(time.time()),\n",
    "        'eventType': 'EVENT_TYPE',\n",
    "        'properties': event_json\n",
    "        }]\n",
    ")"
   ]
  },
  {
   "cell_type": "code",
   "execution_count": 22,
   "metadata": {},
   "outputs": [],
   "source": [
    "# Simulate behavior for a user"
   ]
  },
  {
   "cell_type": "code",
   "execution_count": 23,
   "metadata": {},
   "outputs": [],
   "source": [
    "# Pick a movie, we will use ID 207 or Gattica\n",
    "send_movie_click(USER_ID=USER_ID, ITEM_ID=3939)"
   ]
  },
  {
   "cell_type": "code",
   "execution_count": 24,
   "metadata": {},
   "outputs": [],
   "source": [
    "# Now with Click event"
   ]
  },
  {
   "cell_type": "code",
   "execution_count": 25,
   "metadata": {},
   "outputs": [
    {
     "name": "stdout",
     "output_type": "stream",
     "text": [
      "Recommendations: [\n",
      "  \"Much Ado About Nothing (1993)\",\n",
      "  \"Room with a View, A (1986)\",\n",
      "  \"Heathers (1989)\",\n",
      "  \"M*A*S*H (1970)\",\n",
      "  \"Gandhi (1982)\",\n",
      "  \"Dances with Wolves (1990)\",\n",
      "  \"Sound of Music, The (1965)\",\n",
      "  \"Stand by Me (1986)\",\n",
      "  \"Harold and Maude (1971)\",\n",
      "  \"Lion King, The (1994)\",\n",
      "  \"Back to the Future (1985)\",\n",
      "  \"Birds, The (1963)\",\n",
      "  \"Die Hard (1988)\",\n",
      "  \"Highlander (1986)\",\n",
      "  \"Muriel's Wedding (1994)\",\n",
      "  \"Breakfast at Tiffany's (1961)\",\n",
      "  \"Get Shorty (1995)\",\n",
      "  \"Right Stuff, The (1983)\",\n",
      "  \"Star Wars (1977)\",\n",
      "  \"Henry V (1989)\",\n",
      "  \"Clueless (1995)\",\n",
      "  \"Terminator 2: Judgment Day (1991)\",\n",
      "  \"Snow White and the Seven Dwarfs (1937)\",\n",
      "  \"Monty Python's Life of Brian (1979)\",\n",
      "  \"Real Genius (1985)\"\n",
      "]\n",
      "[{'itemId': '83'}, {'itemId': '213'}, {'itemId': '433'}, {'itemId': '211'}, {'itemId': '527'}, {'itemId': '97'}, {'itemId': '143'}, {'itemId': '655'}, {'itemId': '428'}, {'itemId': '71'}, {'itemId': '204'}, {'itemId': '443'}, {'itemId': '144'}, {'itemId': '431'}, {'itemId': '381'}, {'itemId': '131'}, {'itemId': '4'}, {'itemId': '193'}, {'itemId': '50'}, {'itemId': '190'}, {'itemId': '367'}, {'itemId': '96'}, {'itemId': '99'}, {'itemId': '154'}, {'itemId': '746'}]\n"
     ]
    }
   ],
   "source": [
    "get_recommendations_response = personalize_runtime.get_recommendations(\n",
    "    campaignArn = HRNN_Campaign_ARN,\n",
    "    userId = str(USER_ID),\n",
    ")\n",
    "\n",
    "item_list = get_recommendations_response['itemList']\n",
    "title_list = [items.loc[items['ITEM_ID'] == np.int(item['itemId'])].values[0][-1] for item in item_list]\n",
    "\n",
    "print(\"Recommendations: {}\".format(json.dumps(title_list, indent=2)))\n",
    "print(item_list)"
   ]
  },
  {
   "cell_type": "code",
   "execution_count": null,
   "metadata": {},
   "outputs": [],
   "source": []
  }
 ],
 "metadata": {
  "kernelspec": {
   "display_name": "conda_python3",
   "language": "python",
   "name": "conda_python3"
  },
  "language_info": {
   "codemirror_mode": {
    "name": "ipython",
    "version": 3
   },
   "file_extension": ".py",
   "mimetype": "text/x-python",
   "name": "python",
   "nbconvert_exporter": "python",
   "pygments_lexer": "ipython3",
   "version": "3.6.5"
  }
 },
 "nbformat": 4,
 "nbformat_minor": 2
}
